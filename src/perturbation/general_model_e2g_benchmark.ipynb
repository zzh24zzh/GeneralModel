{
 "cells": [
  {
   "cell_type": "code",
   "execution_count": 1,
   "id": "5ac0d0cc",
   "metadata": {},
   "outputs": [],
   "source": [
    "from sklearn.linear_model import LogisticRegression\n",
    "import pickle\n",
    "import pandas as pd\n",
    "from sklearn.metrics import average_precision_score,roc_auc_score\n",
    "from sklearn.metrics import precision_recall_curve\n",
    "from sklearn.metrics import auc\n",
    "from sklearn.ensemble import RandomForestClassifier\n",
    "from scipy.stats import zscore\n",
    "from sklearn.preprocessing import normalize\n",
    "import matplotlib.pyplot as plt\n",
    "import numpy as np"
   ]
  },
  {
   "cell_type": "code",
   "execution_count": 2,
   "id": "55469dad",
   "metadata": {},
   "outputs": [],
   "source": [
    "def train_lr(chrs ,X ,Y ,df ,name ,encode_features,extra_features=None,e2g_fea=True,model_type='lr'):   \n",
    "    assert model_type in ['lr','rf']\n",
    "    idx = np.arange(len(Y))   \n",
    "    X = np.log(np.abs(X) + 0.01)\n",
    "    \n",
    "    X_e2g=np.array(X.loc[:,encode_features])\n",
    "    if extra_features is not None:\n",
    "        if e2g_fea:\n",
    "            X_e2g=np.concatenate((X_e2g,extra_features),axis=1)\n",
    "        else:\n",
    "            X_e2g=extra_features\n",
    "    \n",
    "    print(X_e2g.shape)\n",
    "    \n",
    "    for chr in chrs:\n",
    "        idx_test = df[df['chrom' ]==chr].index.values\n",
    "        if len(idx_test) > 0:\n",
    "            idx_train = np.delete(idx, idx_test)\n",
    "\n",
    "            X_test = X_e2g[idx_test]\n",
    "            Y_test = Y[idx_test]\n",
    "            X_train = X_e2g[idx_train, :]\n",
    "            Y_train = Y[idx_train]\n",
    "                     \n",
    "            if model_type=='lr':\n",
    "                clf = LogisticRegression(random_state=0, class_weight=None, solver='lbfgs',\n",
    "                                         max_iter=100000).fit(X_train, Y_train)\n",
    "            else:\n",
    "                clf = RandomForestClassifier(n_jobs=-1, random_state=0).fit(X_train, Y_train)\n",
    "            probs = clf.predict_proba(X_test)\n",
    "            df.loc[idx_test, name +'.Score'] = probs[: ,1]"
   ]
  },
  {
   "cell_type": "markdown",
   "id": "adc58ca4",
   "metadata": {},
   "source": [
    "### Load representations and predictions"
   ]
  },
  {
   "cell_type": "code",
   "execution_count": 3,
   "id": "31584fba",
   "metadata": {},
   "outputs": [
    {
     "data": {
      "text/plain": [
       "(6461, 18)"
      ]
     },
     "execution_count": 3,
     "metadata": {},
     "output_type": "execute_result"
    }
   ],
   "source": [
    "reps=np.load('data/re2g_1dreps.npy')\n",
    "twodreps=np.load('data/re2g_2dreps.npy')\n",
    "twodreps.shape\n",
    "with open('data/re2g_wok562_pred.pickle','rb') as f:\n",
    "    pp=pickle.load(f)\n",
    "\n",
    "\n",
    "\n",
    "features=[ 'rna','bru', 'groseq', 'grocap', 'netcage','microc','intacthic']\n",
    "\n",
    "e_extra_fea= np.concatenate([pp['enh'][fea] for fea in features],axis=-1)\n",
    "p_extra_fea= np.concatenate([pp['tss'][fea] for fea in features],axis=-1)\n",
    "\n",
    "\n",
    "micro=pp['enh']['microc']\n",
    "eepis=pp['enh']['epi']\n",
    "pepis=pp['tss']['epi']\n",
    "intact=pp['enh']['intacthic']\n",
    "egros=pp['enh']['groseq']\n",
    "ebrus=pp['enh']['bru']\n",
    "enetcage=pp['enh']['netcage']\n",
    "pgros=pp['tss']['groseq']\n",
    "pbrus=pp['tss']['bru']\n",
    "pnetcage=pp['tss']['netcage']\n",
    "p_extra_fea.shape"
   ]
  },
  {
   "cell_type": "markdown",
   "id": "e0161c72",
   "metadata": {},
   "source": [
    "### Reproduce rE2G"
   ]
  },
  {
   "cell_type": "code",
   "execution_count": 7,
   "id": "8f13cee8",
   "metadata": {},
   "outputs": [
    {
     "name": "stdout",
     "output_type": "stream",
     "text": [
      "472\n",
      "(10375, 13)\n",
      "0.6365077696015278 0.541871921182266 0.19498045631554092\n"
     ]
    }
   ],
   "source": [
    "def encode_e2g(extra_fea=None,model_type='lr'): \n",
    "    assert model_type in ['lr','rf']\n",
    "\n",
    "    chr_lens = [248956422, 242193529, 198295559, 190214555, 181538259, 170805979, 159345973, 145138636, 138394717,\n",
    "                133797422, 135086622, 133275309, 114364328, 107043718, 101991189, 90338345, 83257441, 80373285,\n",
    "                58617616, 64444167, 46709983, 50818468, 156040895]\n",
    "    chrs = ['chr' + str(i) for i in range(1, 23)] + ['chrX']\n",
    "    \n",
    "    df = pd.read_csv('ENCODE-E2G_Predictions.tsv',sep='\\t')\n",
    "    feature_table = pd.read_csv('model_ablation_encode_e2g.tsv', delimiter = '\\t')\n",
    "    feature_list =feature_table['features']\n",
    "    df['TSS_bin'] = df['TSS_from_universe'] // 1000\n",
    "    df['enh_bin'] = ((df['chromStart'] + df['chromEnd']) / 2) // 1000\n",
    "    df['distance'] = np.abs(df['TSS_from_universe'] - (df['chromStart'] + df['chromEnd']) / 2)\n",
    "    df['distance'] = np.abs(df['TSS_bin'] - df['enh_bin'])\n",
    "       \n",
    "    X1 = df.loc[:, feature_list]\n",
    "    Y = df['Regulated'].values.astype(np.int64)\n",
    "    print(Y.sum())\n",
    "    name1='e2g_gen'\n",
    "    \n",
    " \n",
    "        \n",
    "    train_lr(chrs, X1, Y, df, name1,feature_list,\n",
    "             extra_features=extra_fea,model_type=model_type,e2g_fea=True)\n",
    "    preds=df[name1 +'.Score'].values.astype(float)\n",
    "\n",
    "    precision, recall, thresholds = precision_recall_curve(Y,preds)\n",
    "    aupr = auc(recall, precision)\n",
    "    idx_recall_70_pct = np.argsort(np.abs(recall - 0.7))[0]\n",
    "    recall_at_70_pct = recall[idx_recall_70_pct]\n",
    "    precision_at_70_pct_recall = precision[idx_recall_70_pct]\n",
    "    threshod_in_70_pct_recall = thresholds[idx_recall_70_pct]\n",
    "    print(aupr,precision_at_70_pct_recall, threshod_in_70_pct_recall)\n",
    "    return precision, recall, precision_at_70_pct_recall\n",
    "precision_base, recall_base, pr70_base=encode_e2g()"
   ]
  },
  {
   "cell_type": "markdown",
   "id": "5a6aba91",
   "metadata": {},
   "source": [
    "### Incorprating general model features to rE2G"
   ]
  },
  {
   "cell_type": "code",
   "execution_count": 10,
   "id": "972e6200",
   "metadata": {},
   "outputs": [],
   "source": [
    "def encode_e2g_fea(extra_fea=None,model_type='lr'): \n",
    "    assert model_type in ['lr','rf']\n",
    "\n",
    "    chr_lens = [248956422, 242193529, 198295559, 190214555, 181538259, 170805979, 159345973, 145138636, 138394717,\n",
    "                133797422, 135086622, 133275309, 114364328, 107043718, 101991189, 90338345, 83257441, 80373285,\n",
    "                58617616, 64444167, 46709983, 50818468, 156040895]\n",
    "    chrs = ['chr' + str(i) for i in range(1, 23)] + ['chrX']\n",
    "    \n",
    "    df = pd.read_csv('ENCODE-E2G_Predictions.tsv',sep='\\t')\n",
    "    feature_table = pd.read_csv('model_ablation_encode_e2g.tsv', delimiter = '\\t')\n",
    "    feature_list =feature_table['features']\n",
    "    df['TSS_bin'] = df['TSS_from_universe'] // 1000\n",
    "    df['enh_bin'] = ((df['chromStart'] + df['chromEnd']) / 2) // 1000\n",
    "    df['distance'] = np.abs(df['TSS_from_universe'] - (df['chromStart'] + df['chromEnd']) / 2)\n",
    "    df['distance'] = np.abs(df['TSS_bin'] - df['enh_bin'])\n",
    "    \n",
    "    ## keep gene-element pairs within 500kb\n",
    "    df = df[df['distance'] < 500]\n",
    "    df = df.reset_index(drop=True)\n",
    "    df['mid'] = (df['TSS_bin'] + df['enh_bin']) // 2\n",
    "    df['seqStart_bin'] = df['mid'] - 249\n",
    "    df['seqEnd_bin'] = df['mid'] + 251\n",
    "    category_multiplier = dict(zip(chrs, chr_lens))\n",
    "    df['chrom_len'] = df['chrom'].map(category_multiplier) // 1000\n",
    "    df = df[df['seqStart_bin'] - 50 > 0]\n",
    "    df = df[df['seqEnd_bin'] + 50 < df['chrom_len']]\n",
    "    df = df.reset_index(drop=True)\n",
    "\n",
    "    \n",
    "    X1 = df.loc[:, feature_list]\n",
    "    Y = df['Regulated'].values.astype(np.int64)\n",
    "    print(Y.sum())\n",
    "    name1='e2g_gen'\n",
    "       \n",
    "    train_lr(chrs, X1, Y, df, name1,feature_list,\n",
    "             extra_features=extra_fea,model_type=model_type,e2g_fea=True)\n",
    "    preds=df[name1 +'.Score'].values.astype(float)\n",
    "\n",
    "    precision, recall, thresholds = precision_recall_curve(Y,preds)\n",
    "    aupr = auc(recall, precision)\n",
    "    idx_recall_70_pct = np.argsort(np.abs(recall - 0.7))[0]\n",
    "    recall_at_70_pct = recall[idx_recall_70_pct]\n",
    "    precision_at_70_pct_recall = precision[idx_recall_70_pct]\n",
    "    threshod_in_70_pct_recall = thresholds[idx_recall_70_pct]\n",
    "    print(aupr,precision_at_70_pct_recall, threshod_in_70_pct_recall)\n",
    "    return precision, recall, precision_at_70_pct_recall"
   ]
  },
  {
   "cell_type": "code",
   "execution_count": 11,
   "id": "a25c37b9",
   "metadata": {},
   "outputs": [
    {
     "name": "stdout",
     "output_type": "stream",
     "text": [
      "451\n",
      "(6461, 13)\n",
      "0.6573304978706874 0.5693693693693693 0.2247123820655696\n"
     ]
    }
   ],
   "source": [
    "### rE2G baseline\n",
    "precision_base, recall_base, pr70_base=encode_e2g_fea()"
   ]
  },
  {
   "cell_type": "code",
   "execution_count": 12,
   "id": "4adf9b20",
   "metadata": {},
   "outputs": [
    {
     "name": "stdout",
     "output_type": "stream",
     "text": [
      "451\n",
      "(6461, 35)\n",
      "0.7236350857612533 0.6583333333333333 0.29713255951581957\n"
     ]
    }
   ],
   "source": [
    "## adding predicted histones\n",
    "epii=np.arange(236,247,1)\n",
    "extra_fea=np.concatenate((eepis[:,epii],pepis[:,epii]),axis=1)\n",
    "precision_histone, recall_histone, pr70_histone=encode_e2g_fea(extra_fea)"
   ]
  },
  {
   "cell_type": "code",
   "execution_count": 13,
   "id": "ef744653",
   "metadata": {},
   "outputs": [
    {
     "name": "stdout",
     "output_type": "stream",
     "text": [
      "451\n",
      "(6461, 73)\n",
      "0.767188276425599 0.7165532879818595 0.40963670637209865\n"
     ]
    }
   ],
   "source": [
    "## including multiple predicted modalities\n",
    "epii=np.concatenate((np.array([15]),np.arange(236,247,1)))\n",
    "extra_fea=np.concatenate((eepis[:,epii],pepis[:,epii],e_extra_fea,p_extra_fea ),axis=1)\n",
    "precision_allfea, recall_allfea, pr70_allfea=encode_e2g_fea(extra_fea)"
   ]
  },
  {
   "cell_type": "code",
   "execution_count": 15,
   "id": "4dcd820a",
   "metadata": {},
   "outputs": [
    {
     "name": "stdout",
     "output_type": "stream",
     "text": [
      "451\n",
      "(6461, 2029)\n",
      "0.763778110567106 0.7308584686774942 0.42\n"
     ]
    }
   ],
   "source": [
    "### Incorporating general representations\n",
    "extra_fea=np.concatenate((zscore(reps[:,0,:],axis=1),zscore(reps[:,1,:],axis=1), zscore(twodreps,axis=1)),axis=1)\n",
    "precision_rep, recall_rep, pr70_rep=encode_e2g_fea(extra_fea,model_type='rf')"
   ]
  },
  {
   "cell_type": "markdown",
   "id": "1518c678",
   "metadata": {},
   "source": [
    "### Reproduce rE2G-extend"
   ]
  },
  {
   "cell_type": "code",
   "execution_count": 20,
   "id": "f7928333",
   "metadata": {},
   "outputs": [
    {
     "name": "stdout",
     "output_type": "stream",
     "text": [
      "472\n",
      "(10375, 46)\n",
      "0.7591947086239141 0.7066381156316917 0.31996124119169\n"
     ]
    }
   ],
   "source": [
    "def encode_e2g_extend():\n",
    "    chr_lens = [248956422, 242193529, 198295559, 190214555, 181538259, 170805979, 159345973, 145138636, 138394717,\n",
    "                133797422, 135086622, 133275309, 114364328, 107043718, 101991189, 90338345, 83257441, 80373285,\n",
    "                58617616, 64444167, 46709983, 50818468, 156040895]\n",
    "    chrs = ['chr' + str(i) for i in range(1, 23)] + ['chrX']\n",
    "    \n",
    "    df = pd.read_csv('ENCODE-E2G_Extended_Predictions.tsv',sep='\\t')\n",
    "    df1 = pd.read_csv('ENCODE-E2G_Predictions.tsv',sep='\\t')\n",
    "    df['TSS_from_universe']=df1['TSS_from_universe']\n",
    "    feature_table = pd.read_csv('model_ablation_encode_e2g_extended.tsv', delimiter = '\\t')\n",
    "    feature_list =feature_table['features']\n",
    "    \n",
    "    X1 = df.loc[:, feature_list]\n",
    "    Y = df['Regulated'].values.astype(np.int64)\n",
    "    print(Y.sum())\n",
    "    name1='e2g_extend'\n",
    "     \n",
    "\n",
    "    extra_fea=None\n",
    "\n",
    " \n",
    "    train_lr(chrs, X1, Y, df, name1,feature_list,\n",
    "             extra_features=extra_fea,model_type='lr',e2g_fea=True)\n",
    "    preds=df[name1 +'.Score'].values.astype(float)\n",
    "\n",
    "    precision, recall, thresholds = precision_recall_curve(Y,preds)\n",
    "    aupr = auc(recall, precision)\n",
    "    idx_recall_70_pct = np.argsort(np.abs(recall - 0.7))[0]\n",
    "    recall_at_70_pct = recall[idx_recall_70_pct]\n",
    "    precision_at_70_pct_recall = precision[idx_recall_70_pct]\n",
    "    threshod_in_70_pct_recall = thresholds[idx_recall_70_pct]\n",
    "    print(aupr,precision_at_70_pct_recall, threshod_in_70_pct_recall)\n",
    "    return precision, recall, precision_at_70_pct_recall\n",
    "precision_extend, recall_extend, pr70_extend=encode_e2g_extend()   "
   ]
  },
  {
   "cell_type": "code",
   "execution_count": 23,
   "id": "db65c44b",
   "metadata": {},
   "outputs": [],
   "source": [
    "def encode_e2g_extend_fea(extra_fea=None,model_type='lr'): \n",
    "    assert model_type in ['lr','rf']\n",
    "    chr_lens = [248956422, 242193529, 198295559, 190214555, 181538259, 170805979, 159345973, 145138636, 138394717,\n",
    "                133797422, 135086622, 133275309, 114364328, 107043718, 101991189, 90338345, 83257441, 80373285,\n",
    "                58617616, 64444167, 46709983, 50818468, 156040895]\n",
    "    chrs = ['chr' + str(i) for i in range(1, 23)] + ['chrX']\n",
    "    \n",
    "    df = pd.read_csv('ENCODE-E2G_Extended_Predictions.tsv',sep='\\t')\n",
    "    df1 = pd.read_csv('ENCODE-E2G_Predictions.tsv',sep='\\t')\n",
    "    df['TSS_from_universe']=df1['TSS_from_universe']\n",
    "    feature_table = pd.read_csv('model_ablation_encode_e2g_extended.tsv', delimiter = '\\t')\n",
    "    feature_list =feature_table['features']\n",
    "    \n",
    "    df['TSS_bin'] = df['TSS_from_universe'] // 1000\n",
    "    df['enh_bin'] = ((df['chromStart'] + df['chromEnd']) / 2) // 1000\n",
    "    df['distance'] = np.abs(df['TSS_from_universe'] - (df['chromStart'] + df['chromEnd']) / 2)\n",
    "    df['distance'] = np.abs(df['TSS_bin'] - df['enh_bin'])\n",
    "    \n",
    "    df = df[df['distance'] < 500]\n",
    "    df = df.reset_index(drop=True)\n",
    "    df['mid'] = (df['TSS_bin'] + df['enh_bin']) // 2\n",
    "    df['seqStart_bin'] = df['mid'] - 249\n",
    "    df['seqEnd_bin'] = df['mid'] + 251\n",
    "    category_multiplier = dict(zip(chrs, chr_lens))\n",
    "    df['chrom_len'] = df['chrom'].map(category_multiplier) // 1000\n",
    "    df = df[df['seqStart_bin'] - 50 > 0]\n",
    "    df = df[df['seqEnd_bin'] + 50 < df['chrom_len']]\n",
    "    df = df.reset_index(drop=True)\n",
    "\n",
    "\n",
    "    X1 = df.loc[:, feature_list]\n",
    "    Y = df['Regulated'].values.astype(np.int64)\n",
    "    print(Y.sum())\n",
    "    name1='e2g_extend'\n",
    "    \n",
    " \n",
    "    train_lr(chrs, X1, Y, df, name1,feature_list,\n",
    "             extra_features=extra_fea,model_type=model_type,e2g_fea=True)\n",
    "    preds=df[name1 +'.Score'].values.astype(float)\n",
    "\n",
    "    precision, recall, thresholds = precision_recall_curve(Y,preds)\n",
    "    aupr = auc(recall, precision)\n",
    "    idx_recall_70_pct = np.argsort(np.abs(recall - 0.7))[0]\n",
    "    recall_at_70_pct = recall[idx_recall_70_pct]\n",
    "    precision_at_70_pct_recall = precision[idx_recall_70_pct]\n",
    "    threshod_in_70_pct_recall = thresholds[idx_recall_70_pct]\n",
    "    print(aupr,precision_at_70_pct_recall, threshod_in_70_pct_recall)\n",
    "    return precision, recall, precision_at_70_pct_recall"
   ]
  },
  {
   "cell_type": "code",
   "execution_count": 24,
   "id": "b5aca08a",
   "metadata": {},
   "outputs": [
    {
     "name": "stdout",
     "output_type": "stream",
     "text": [
      "451\n",
      "(6461, 46)\n",
      "0.7852553430986395 0.7400468384074942 0.38703962122655555\n"
     ]
    }
   ],
   "source": [
    "precision_extend, recall_extend, pr70_extend=encode_e2g_extend_fea()  "
   ]
  },
  {
   "cell_type": "code",
   "execution_count": 26,
   "id": "dbbf2259",
   "metadata": {},
   "outputs": [
    {
     "name": "stdout",
     "output_type": "stream",
     "text": [
      "451\n",
      "(6461, 82)\n",
      "0.8003000379154435 0.7669902912621359 0.4585920980137191\n"
     ]
    }
   ],
   "source": [
    "# Including predicted features\n",
    "extra_fea=np.concatenate((e_extra_fea,p_extra_fea),axis=1)\n",
    "precision_allfea, recall_allfea, pr70_allfea=encode_e2g_extend_fea(extra_fea)"
   ]
  },
  {
   "cell_type": "code",
   "execution_count": 27,
   "id": "a745a23b",
   "metadata": {},
   "outputs": [
    {
     "name": "stdout",
     "output_type": "stream",
     "text": [
      "451\n",
      "(6461, 2062)\n",
      "0.7687511953535031 0.7394366197183099 0.42\n"
     ]
    }
   ],
   "source": [
    "### Incorporating general representations\n",
    "extra_fea=np.concatenate((zscore(reps[:,0,:],axis=1),zscore(reps[:,1,:],axis=1), zscore(twodreps,axis=1)),axis=1)\n",
    "precision_extra_rep, recall_extra_rep, pr70_extra_rep=encode_e2g_extend_fea(extra_fea,model_type='rf')"
   ]
  },
  {
   "cell_type": "code",
   "execution_count": null,
   "id": "b80fd8c6",
   "metadata": {},
   "outputs": [],
   "source": []
  }
 ],
 "metadata": {
  "kernelspec": {
   "display_name": "Python 3 (ipykernel)",
   "language": "python",
   "name": "python3"
  },
  "language_info": {
   "codemirror_mode": {
    "name": "ipython",
    "version": 3
   },
   "file_extension": ".py",
   "mimetype": "text/x-python",
   "name": "python",
   "nbconvert_exporter": "python",
   "pygments_lexer": "ipython3",
   "version": "3.9.7"
  }
 },
 "nbformat": 4,
 "nbformat_minor": 5
}